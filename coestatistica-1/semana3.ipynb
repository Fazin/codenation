{
 "cells": [
  {
   "cell_type": "markdown",
   "metadata": {},
   "source": [
    "# Conhecendo melhor nossa base de consumidores: qual estado possui os clientes com melhores pontuações de crédito?\n",
    "\n",
    "## Objetivo\n",
    "\n",
    "Queremos conhecer melhor nossos clientes por estado. Para isso, iniciamos uma análise na pontuação de crédito. \n",
    "Para realizar a verificação inicial, precisamos de alguns valores.\n",
    "Os valores são a média, a mediana, a moda e o desvio padrão da pontuação de crédito.\n",
    "\n",
    "## Tópicos\n",
    "\n",
    "Neste desafio você aprenderá:\n",
    "\n",
    "- Média;\n",
    "- Mediana;\n",
    "- Moda;\n",
    "- Desvio padrão.\n",
    "\n",
    "## Requisitos\n",
    "\n",
    "Você precisará de python 3.6 (ou superior).\n",
    "\n",
    "O recomendado é você utilizar um [ambiente virtual](https://pythonacademy.com.br/blog/python-e-virtualenv-como-programar-em-ambientes-virtuais). Para isto, execute os comandos como no exemplo abaixo:\n",
    "\n",
    "    pip3 install virtualenv\n",
    "    virtualenv venv -p python3\n",
    "    source venv/bin/activate \n",
    "\n",
    "Ao terminar o desafio, você pode sair do ambiente criado com o comando `deactivate`\n",
    "\n",
    "## Detalhes\n",
    "\n",
    "A resposta deve conter os valores da média, mediana, moda e desvio padrão da pontuação de crédito para cada estado do dataset.\n",
    "O arquivo para submissão deve estar em formato json, conforme o arquivo exemplo \"submission.json\".\n",
    "\n",
    "**OBSERVAÇÃO:**  É recomendado utilizar Python e pandas para esse desafio, mas também é possível utilizar outras ferramentas e linguagens de programação.\n",
    "\n",
    "Descrição dos dados:\n",
    "'id': Identificador do cliente\n",
    "'sobrenome': Sobrenome do cliente\n",
    "'pontuacao_credito': Pontuação de crédito do cliente (quanto maior, melhor o cliente geralmente)\n",
    "'estado_residencia': Estado de residência do cliente\n",
    "'genero': Gênero do cliente\n",
    "'nivel_estabilidade': Nível de estabilidade do cliente\n",
    "'saldo_conta': Saldo disponível na conta do cliente\n",
    "'numero_produtos': Número de produtos que o cliente consome\n",
    "'possui_cartao_de_credito': Possui um cartão de crédito cadastrado\n",
    "'membro_ativo': Membro acessa e consome frequentemente\n",
    "\n",
    "Obs: Os dados são fictícios, mas tentam representar a realidade de uma base de clientes de um produto SaaS. "
   ]
  },
  {
   "cell_type": "code",
   "execution_count": 64,
   "metadata": {},
   "outputs": [],
   "source": [
    "#Bibliotecas\n",
    "\n",
    "import pandas as pd\n",
    "import json"
   ]
  },
  {
   "cell_type": "code",
   "execution_count": 65,
   "metadata": {},
   "outputs": [],
   "source": [
    "#Baixando dataset\n",
    "\n",
    "df = pd.read_csv('desafio1.csv')"
   ]
  },
  {
   "cell_type": "code",
   "execution_count": 66,
   "metadata": {},
   "outputs": [],
   "source": [
    "#Visualizando dataset\n",
    "\n",
    "df.head()\n",
    "df2 = []"
   ]
  },
  {
   "cell_type": "code",
   "execution_count": 81,
   "metadata": {},
   "outputs": [
    {
     "data": {
      "text/plain": [
       "'{\"SC\": {\"moda\": 850, \"mediana\": 653.0, \"media\": 649.5376527422563, \"desvio_padrao\": 97.23349279343306}, \"RS\": {\"moda\": 850, \"mediana\": 650.0, \"media\": 651.1051428571428, \"desvio_padrao\": 95.1365984138357}, \"PR\": {\"moda\": 850, \"mediana\": 650.0, \"media\": 648.9612940496822, \"desvio_padrao\": 98.60718591309772}}'"
      ]
     },
     "execution_count": 81,
     "metadata": {},
     "output_type": "execute_result"
    }
   ],
   "source": [
    "df_bystate_slice = df[['estado_residencia','pontuacao_credito']]\n",
    "\n",
    "\n",
    "def dict_estado(df_bystate_slice, estado):\n",
    "    df_bystate = df_bystate_slice[df_bystate_slice['estado_residencia'] == estado]\n",
    "    df_bystate.set_index('estado_residencia')\n",
    "\n",
    "    dict = {\"moda\": int(df_bystate['pontuacao_credito'].mode()[0]),\n",
    "            \"mediana\": df_bystate['pontuacao_credito'].median(), \n",
    "            \"media\": df_bystate['pontuacao_credito'].mean(), \n",
    "            \"desvio_padrao\": df_bystate['pontuacao_credito'].std()}\n",
    "\n",
    "    return dict\n",
    "\n",
    "#dict_estado(df_bystate_slice, 'RS')\n",
    "\n",
    "resp = {}\n",
    "\n",
    "for estado in df_bystate_slice['estado_residencia'].unique():\n",
    "    resp.update({estado : dict_estado(df_bystate_slice, estado)})\n",
    "    \n",
    "submission = json.dumps(resp)\n",
    "submission"
   ]
  },
  {
   "cell_type": "code",
   "execution_count": 80,
   "metadata": {},
   "outputs": [],
   "source": [
    "with open('submission.json',\"w\") as f:\n",
    "  f.write(data)"
   ]
  }
 ],
 "metadata": {
  "kernelspec": {
   "display_name": "Python 3",
   "language": "python",
   "name": "python3"
  },
  "language_info": {
   "codemirror_mode": {
    "name": "ipython",
    "version": 3
   },
   "file_extension": ".py",
   "mimetype": "text/x-python",
   "name": "python",
   "nbconvert_exporter": "python",
   "pygments_lexer": "ipython3",
   "version": "3.7.6"
  }
 },
 "nbformat": 4,
 "nbformat_minor": 2
}
